{
 "cells": [
  {
   "cell_type": "markdown",
   "id": "04ad9c80-2b3a-4df1-bead-fb347d51359f",
   "metadata": {},
   "source": [
    "## 1. Set environment vairable for MemoryDB cluster "
   ]
  },
  {
   "cell_type": "code",
   "execution_count": 1,
   "id": "41f56fd0-efc1-4edb-9a99-d41de0954949",
   "metadata": {},
   "outputs": [
    {
     "name": "stdout",
     "output_type": "stream",
     "text": [
      "env: MEMORYDB_HOST=semanticcache.ghlaqp.clustercfg.memorydb.us-east-1.amazonaws.com\n",
      "env: MEMORYDB_PORT=6379\n"
     ]
    }
   ],
   "source": [
    "%env MEMORYDB_HOST=semanticcache.ghlaqp.clustercfg.memorydb.us-east-1.amazonaws.com\n",
    "%env MEMORYDB_PORT=6379"
   ]
  },
  {
   "cell_type": "markdown",
   "id": "99ba6c98-8486-45c6-a15c-6025777df3cb",
   "metadata": {},
   "source": [
    "## 2. Install packages"
   ]
  },
  {
   "cell_type": "code",
   "execution_count": null,
   "id": "e6ecf91d-454a-44c4-ab16-31faf6c541ae",
   "metadata": {},
   "outputs": [],
   "source": [
    "# Install a pip package in the current Jupyter kernel\n",
    "import sys\n",
    "!{sys.executable} -m pip install langchain_core\n",
    "!{sys.executable} -m pip install langchain_aws\n",
    "!{sys.executable} -m pip install redis"
   ]
  },
  {
   "cell_type": "code",
   "execution_count": 2,
   "id": "d10cf385-93ac-4b03-8532-30efebfb6061",
   "metadata": {},
   "outputs": [],
   "source": [
    "import os\n",
    "from langchain_core.globals import set_llm_cache\n",
    "from langchain_aws.cache import InMemorySemanticCache\n",
    "from langchain_aws import ChatBedrock\n",
    "from langchain_aws.embeddings import BedrockEmbeddings\n",
    "import redis\n",
    "from redis.cluster import RedisCluster as MemoryDB"
   ]
  },
  {
   "cell_type": "markdown",
   "id": "15a34675-5c66-4ea1-9a1c-b5a205302216",
   "metadata": {},
   "source": [
    "## Initialize the ChatBedrock and embeddings "
   ]
  },
  {
   "cell_type": "code",
   "execution_count": 3,
   "id": "ccfa25cf-26aa-45f9-9a2a-df1a1606fa68",
   "metadata": {},
   "outputs": [],
   "source": [
    "# create the Anthropic Model\n",
    "model_kwargs = {\n",
    "    \"temperature\": 0, \n",
    "    \"top_k\": 250, \n",
    "    \"top_p\": 1,\n",
    "    \"stop_sequences\": [\"\\\\n\\\\nHuman:\"]\n",
    "}    "
   ]
  },
  {
   "cell_type": "code",
   "execution_count": 4,
   "id": "2481182f-3432-4e59-a14e-b00f31d0b84f",
   "metadata": {},
   "outputs": [],
   "source": [
    "# use the Anthropic Claude model\n",
    "llm = ChatBedrock(\n",
    "    model_id=\"anthropic.claude-3-sonnet-20240229-v1:0\",\n",
    "    model_kwargs=model_kwargs\n",
    ")\n"
   ]
  },
  {
   "cell_type": "code",
   "execution_count": 5,
   "id": "6ba15759-b194-4fd8-a9a6-1be417b47887",
   "metadata": {},
   "outputs": [],
   "source": [
    "# create a Titan Embeddings client\n",
    "embeddings = BedrockEmbeddings()"
   ]
  },
  {
   "cell_type": "markdown",
   "id": "74c7aec2-8efa-4f2d-bca3-09a148d38efc",
   "metadata": {},
   "source": [
    "## Connect to MemoryDB"
   ]
  },
  {
   "cell_type": "code",
   "execution_count": 6,
   "id": "27319029-fba1-401e-84b1-f63cfcfb1f17",
   "metadata": {},
   "outputs": [
    {
     "name": "stdout",
     "output_type": "stream",
     "text": [
      "CPU times: user 60.8 ms, sys: 0 ns, total: 60.8 ms\n",
      "Wall time: 67.2 ms\n"
     ]
    },
    {
     "data": {
      "text/plain": [
       "True"
      ]
     },
     "execution_count": 6,
     "metadata": {},
     "output_type": "execute_result"
    }
   ],
   "source": [
    "%%time\n",
    "memorydb_host = os.environ.get(\"MEMORYDB_HOST\", \"localhost\")\n",
    "memorydb_port = os.environ.get(\"MEMORYDB_PORT\", 6379)\n",
    "# print(f\"MemoryDB Url = {memorydb_host}:{memorydb_port}\")\n",
    "rc = MemoryDB(host=memorydb_host, port=memorydb_port, ssl=False, decode_responses=False, ssl_cert_reqs=\"none\")\n",
    "rc.ping()\n",
    "#rc.flushall()"
   ]
  },
  {
   "cell_type": "markdown",
   "id": "1f7fe013-f713-4797-ae38-fe7a0f3e32b3",
   "metadata": {},
   "source": [
    "## Ask a question without a cache"
   ]
  },
  {
   "cell_type": "code",
   "execution_count": 7,
   "id": "68fe670e-9c9c-4d2f-9c39-29c2279a9512",
   "metadata": {},
   "outputs": [
    {
     "name": "stdout",
     "output_type": "stream",
     "text": [
      "Here are some key details about missions to the Moon:\n",
      "\n",
      "- The first human missions to the Moon were the crewed missions of the United States Apollo program between 1968-1972. A total of 12 astronauts walked on the lunar surface during the six successful NASA landing missions.\n",
      "\n",
      "- On July 20, 1969, Apollo 11 marked the first crewed landing on the Moon. Neil Armstrong became the first person to walk on the lunar surface, famously saying \"That's one small step for man, one giant leap for mankind.\"\n",
      "\n",
      "- The last crewed landing was Apollo 17 in December 1972. Since then, numerous uncrewed spacecraft have explored the Moon from orbit.\n",
      "\n",
      "- Some key uncrewed lunar missions include the Soviet Luna program, NASA's Lunar Reconnaissance Orbiter mapping the Moon since 2009, and recent missions like China's Chang'e 4 which landed on the far side of the Moon in 2019.\n",
      "\n",
      "- NASA is currently working towards the Artemis program which aims to land the first woman and next man on the lunar surface by 2024 and establish a sustainable human presence on the Moon by the end of the decade.\n",
      "\n",
      "- Future crewed lunar missions are planned not just for exploration but to test technologies and resources needed for eventual human exploration of Mars.\n",
      "\n",
      "So in summary, after the pioneering Apollo missions, there was a lull before robotic missions resumed lunar exploration paving the way for a new era of human Moon landings.\n",
      "CPU times: user 44.2 ms, sys: 0 ns, total: 44.2 ms\n",
      "Wall time: 24.3 s\n"
     ]
    }
   ],
   "source": [
    "%%time\n",
    "response=llm.invoke(\"Tell me about mission to moon\")\n",
    "print(response.content)"
   ]
  },
  {
   "cell_type": "markdown",
   "id": "2d883259-1b8d-43e9-bd08-c8e6438b0b19",
   "metadata": {},
   "source": [
    "## Enable MemoryDB for durable semantic caching "
   ]
  },
  {
   "cell_type": "code",
   "execution_count": 8,
   "id": "4f00da6f-a370-418f-a305-fc2a59f0fc78",
   "metadata": {},
   "outputs": [],
   "source": [
    "set_llm_cache(\n",
    "    InMemorySemanticCache(redis_url=f\"redis://{memorydb_host}:{memorydb_port}/ssl=True&ssl_cert_reqs=none\",\n",
    "                embedding=embeddings)\n",
    ")"
   ]
  },
  {
   "cell_type": "code",
   "execution_count": 9,
   "id": "0ad4cc96-69eb-4a47-ab6f-b21d5592d9fc",
   "metadata": {},
   "outputs": [
    {
     "name": "stdout",
     "output_type": "stream",
     "text": [
      "Here are some key details about missions to the Moon:\n",
      "\n",
      "- The first human missions to the Moon were the crewed missions of the United States Apollo program between 1968-1972. A total of 12 astronauts walked on the lunar surface during the six successful NASA landing missions.\n",
      "\n",
      "- On July 20, 1969, Apollo 11 marked the first crewed landing on the Moon. Neil Armstrong became the first person to walk on the lunar surface, famously saying \"That's one small step for man, one giant leap for mankind.\"\n",
      "\n",
      "- The last crewed landing was Apollo 17 in December 1972. Since then, numerous uncrewed spacecraft have explored the Moon from orbit.\n",
      "\n",
      "- Some key robotic lunar missions include the Soviet Luna program, NASA's Lunar Reconnaissance Orbiter and Lunar Crater Observation and Sensing Satellite, India's Chandrayaan-1, and China's Chang'e program which landed rovers on the Moon.\n",
      "\n",
      "- NASA's Artemis program aims to land the first woman and next man on the lunar surface by 2024 and establish sustainable lunar exploration with the eventual goal of sending astronauts to Mars.\n",
      "\n",
      "- Private companies like SpaceX, Blue Origin and others are also working on lunar lander vehicles for NASA's commercial lunar payload services.\n",
      "\n",
      "- Future international goals include establishing a crewed lunar base and testing technologies and resources utilization on the Moon as a stepping stone for eventual Mars exploration.\n",
      "CPU times: user 159 ms, sys: 37.5 ms, total: 196 ms\n",
      "Wall time: 320 ms\n"
     ]
    }
   ],
   "source": [
    "%%time\n",
    "response=llm.invoke(\"Tell me about mission to moon\")\n",
    "print(response.content)"
   ]
  },
  {
   "cell_type": "code",
   "execution_count": 10,
   "id": "2c668188-5658-492d-8fce-bea9063d2cfc",
   "metadata": {},
   "outputs": [
    {
     "name": "stdout",
     "output_type": "stream",
     "text": [
      "The telescope was first invented in the Netherlands in the early 17th century, around 1608. However, there is some debate over who should get credit as the original inventor.\n",
      "\n",
      "The main contenders are:\n",
      "\n",
      "1) Hans Lippershey - A Dutch eyeglass maker who is often credited as the first to apply for a patent for his refracting telescope in 1608, though his patent request was denied.\n",
      "\n",
      "2) Zacharias Janssen - Another Dutch spectacle maker who may have invented a compound microscope and telescope around 1590, though the exact dates are uncertain.\n",
      "\n",
      "3) Jacob Metius - A Dutch professor and maker of optical instruments who claimed to have invented the telescope in 1608, around the same time as Lippershey.\n",
      "\n",
      "While there is no consensus on who was truly first, most historians give credit to Hans Lippershey as the first person known to have successfully applied for a patent for the refracting telescope in 1608. Galileo Galilei later made improvements and was one of the first to use the telescope for astronomical observations in 1609.\n",
      "CPU times: user 6.98 ms, sys: 0 ns, total: 6.98 ms\n",
      "Wall time: 82.6 ms\n"
     ]
    }
   ],
   "source": [
    "%%time\n",
    "response=llm.invoke(\"Who first invented a telescope\")\n",
    "print(response.content)"
   ]
  },
  {
   "cell_type": "code",
   "execution_count": 11,
   "id": "6665d884-08fe-46a8-a6b4-fcf42df44d43",
   "metadata": {},
   "outputs": [
    {
     "name": "stdout",
     "output_type": "stream",
     "text": [
      "The invention of the modern car is credited to several pioneers who contributed different components and concepts over time. However, some key figures stand out:\n",
      "\n",
      "1. Karl Benz (1844-1929) - A German engineer who patented the first gasoline-powered automobile in 1886. His three-wheeled Benz Patent Motorwagen is widely regarded as the first modern automobile.\n",
      "\n",
      "2. Gottlieb Daimler (1834-1900) - Another German engineer who independently designed and built a high-speed petrol engine in 1885, which he fitted to a bicycle, creating the first motorcycle. He later collaborated with Wilhelm Maybach to build the first four-wheeled automobile in 1889.\n",
      "\n",
      "3. Henry Ford (1863-1947) - An American engineer and industrialist who didn't invent the automobile itself, but revolutionized its production with the introduction of the assembly line and mass production techniques. His Model T, introduced in 1908, made cars affordable for the masses.\n",
      "\n",
      "4. Nicolas Joseph Cugnot (1725-1804) - A French engineer who built a steam-powered tricycle in 1769, which is considered the first self-propelled vehicle, although it was not a modern automobile.\n",
      "\n",
      "While many individuals contributed to the development of the automobile, Karl Benz is widely regarded as the inventor of the modern gasoline-powered automobile as we know it today.\n",
      "CPU times: user 6.93 ms, sys: 57 µs, total: 6.99 ms\n",
      "Wall time: 92.3 ms\n"
     ]
    }
   ],
   "source": [
    "%%time\n",
    "response=llm.invoke(\"Who first invented a car\")\n",
    "print(response.content)"
   ]
  },
  {
   "cell_type": "code",
   "execution_count": 12,
   "id": "7d645f3c-d721-490c-a734-8c22158b227f",
   "metadata": {},
   "outputs": [
    {
     "name": "stdout",
     "output_type": "stream",
     "text": [
      "The telescope was first invented in the Netherlands in the early 17th century, around 1608. However, there is some debate over who should get credit as the original inventor.\n",
      "\n",
      "The main contenders are:\n",
      "\n",
      "1) Hans Lippershey - A Dutch eyeglass maker who is often credited as the first to apply for a patent for his refracting telescope in 1608, though his patent request was denied.\n",
      "\n",
      "2) Zacharias Janssen - Another Dutch spectacle maker who may have invented a compound microscope and telescope around 1590, though the exact dates are uncertain.\n",
      "\n",
      "3) Jacob Metius - A Dutch professor and maker of optical instruments who claimed to have invented the telescope in 1608, around the same time as Lippershey.\n",
      "\n",
      "While there is no consensus on who was truly first, most historians give credit to Hans Lippershey as the first person known to have successfully applied for a patent for the refracting telescope in 1608. Galileo Galilei later made improvements and was one of the first to use the telescope for astronomical observations in 1609.\n",
      "CPU times: user 6.25 ms, sys: 417 µs, total: 6.67 ms\n",
      "Wall time: 106 ms\n"
     ]
    }
   ],
   "source": [
    "%%time\n",
    "respone3=llm.invoke(\"Who  first  a Telescope\")\n",
    "print(respone3.content)"
   ]
  },
  {
   "cell_type": "code",
   "execution_count": null,
   "id": "6732c3e5-eee0-49cf-94b0-924e66606143",
   "metadata": {},
   "outputs": [],
   "source": []
  }
 ],
 "metadata": {
  "kernelspec": {
   "display_name": "Python 3 (ipykernel)",
   "language": "python",
   "name": "python3"
  },
  "language_info": {
   "codemirror_mode": {
    "name": "ipython",
    "version": 3
   },
   "file_extension": ".py",
   "mimetype": "text/x-python",
   "name": "python",
   "nbconvert_exporter": "python",
   "pygments_lexer": "ipython3",
   "version": "3.9.16"
  }
 },
 "nbformat": 4,
 "nbformat_minor": 5
}
